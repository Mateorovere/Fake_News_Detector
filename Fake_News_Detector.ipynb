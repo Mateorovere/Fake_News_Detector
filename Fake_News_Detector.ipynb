{
 "cells": [
  {
   "cell_type": "code",
   "execution_count": 18,
   "id": "43361af3",
   "metadata": {},
   "outputs": [],
   "source": [
    "import pandas as pd\n",
    "import numpy as np\n",
    "from sklearn.model_selection import train_test_split\n",
    "from sklearn.feature_extraction.text import TfidfVectorizer\n",
    "from sklearn.svm import LinearSVC"
   ]
  },
  {
   "cell_type": "code",
   "execution_count": 25,
   "id": "ba072944",
   "metadata": {},
   "outputs": [],
   "source": [
    "df_true = pd.read_csv('archive/True.csv')\n",
    "df_true['ToF'] = 1\n",
    "df_fake = pd.read_csv('archive/Fake.csv')\n",
    "df_fake['ToF'] = 0"
   ]
  },
  {
   "cell_type": "code",
   "execution_count": 26,
   "id": "5c12a2bb",
   "metadata": {},
   "outputs": [],
   "source": [
    "df = pd.concat([df_true,df_fake],axis=0)\n",
    "df = df.reset_index(drop=True)"
   ]
  },
  {
   "cell_type": "code",
   "execution_count": 29,
   "id": "8bb25cd9",
   "metadata": {},
   "outputs": [],
   "source": [
    "X, y = df['text'], df['ToF']\n",
    "X_train, X_test, Y_train, Y_test = train_test_split(X, y, test_size = 0.15)"
   ]
  },
  {
   "cell_type": "code",
   "execution_count": 32,
   "id": "d8d9f21c",
   "metadata": {
    "collapsed": true
   },
   "outputs": [
    {
     "data": {
      "text/plain": [
       "'Like Obama and his regime, this Occupier and Obama supporter believes he is above the law. The City of Detroit begs to differ, and would like Fairey to pay them back for the damage he has done to various buildings in the city.  Shepard FaireyFamed street artist Shepard Fairey, who visited Detroit last month to create the largest mural of his career, faces felony charges of tagging other properties across the city on his own time.A warrant for his arrest was filed in 36th District Court on Friday. He faces two counts of malicious destruction of property, which carry a maximum penalty of five years in jail, plus fines that could exceed $10,000.Police, who accuse the artist of causing about $9,000 in damage, said that the next time he comes to Detroit, they will arrest him if he doesn t turn himself in first. Just because he is a well-known artist does not take away the fact that he is also a vandal,  said Detroit Police Sgt. Rebecca McKay, who oversees the city s graffiti task force.  And that s what we consider was done, in these instances, was vandalism. Fairey told the Free Press he intended to leave illegal marks in the city. He arrived in May to paint the 18-story mural on One Campus Martius for Dan Gilbert s Bedrock Real Estate Services and others, but before the work began, he said he would be doing more. I still do stuff on the street without permission. I ll be doing stuff on the street when I m in Detroit,  Fairey said last month. His signature black-and-white Andre the Giant face has since appeared on several buildings downtown, in Eastern Market and along Jefferson Avenue.Fairey s legal troubles in Detroit open a window into the evolution of street art, from its illegal origins into its more professionalized genre recognized in museums and galleries. Fairey has always liked to play both sides of the street, accepting major commissions like the One Campus Martius mural but also retaining his street credibility by continuing to work in the shadows, tagging private property without authorization.An exhibition of Fairey s prints is also currently on view at the Library Street Collective in downtown Detroit. This is a whole genre that s become institutionalized, and you ll always have some outliers go back to where they started and where they get their inspiration,  said Elysia Borowy-Reeder, executive director of the Museum of Contemporary Art Detroit.On another front, the crackdown on illegal graffiti suggests that the reputation Detroit has had for years among artists elsewhere as a kind of Wild Wild West of opportunity needs amending. While inexpensive studio space, a supportive artists  community and the chance to help shape the future of the city remain powerful incentives to live and work in Detroit, the notion that anything goes, including illegal activities that have made the city a haven for unauthorized street art, is no longer true. That reputation lingers but change happens slowly and it s catching up,  said Borowy-Reeder.  The city is becoming more mature. Via: Detroit Free Press '"
      ]
     },
     "execution_count": 32,
     "metadata": {},
     "output_type": "execute_result"
    }
   ],
   "source": [
    "X_test.iloc[0]"
   ]
  },
  {
   "cell_type": "code",
   "execution_count": 35,
   "id": "74aad0e3",
   "metadata": {},
   "outputs": [],
   "source": [
    "vectorizer = TfidfVectorizer(stop_words='english',max_df=0.75)\n",
    "X_train_vectorizado = vectorizer.fit_transform(X_train)\n",
    "X_test_vectorizado = vectorizer.transform(X_test)"
   ]
  },
  {
   "cell_type": "code",
   "execution_count": 38,
   "id": "bc8c9761",
   "metadata": {},
   "outputs": [
    {
     "data": {
      "text/html": [
       "<style>#sk-container-id-1 {color: black;background-color: white;}#sk-container-id-1 pre{padding: 0;}#sk-container-id-1 div.sk-toggleable {background-color: white;}#sk-container-id-1 label.sk-toggleable__label {cursor: pointer;display: block;width: 100%;margin-bottom: 0;padding: 0.3em;box-sizing: border-box;text-align: center;}#sk-container-id-1 label.sk-toggleable__label-arrow:before {content: \"▸\";float: left;margin-right: 0.25em;color: #696969;}#sk-container-id-1 label.sk-toggleable__label-arrow:hover:before {color: black;}#sk-container-id-1 div.sk-estimator:hover label.sk-toggleable__label-arrow:before {color: black;}#sk-container-id-1 div.sk-toggleable__content {max-height: 0;max-width: 0;overflow: hidden;text-align: left;background-color: #f0f8ff;}#sk-container-id-1 div.sk-toggleable__content pre {margin: 0.2em;color: black;border-radius: 0.25em;background-color: #f0f8ff;}#sk-container-id-1 input.sk-toggleable__control:checked~div.sk-toggleable__content {max-height: 200px;max-width: 100%;overflow: auto;}#sk-container-id-1 input.sk-toggleable__control:checked~label.sk-toggleable__label-arrow:before {content: \"▾\";}#sk-container-id-1 div.sk-estimator input.sk-toggleable__control:checked~label.sk-toggleable__label {background-color: #d4ebff;}#sk-container-id-1 div.sk-label input.sk-toggleable__control:checked~label.sk-toggleable__label {background-color: #d4ebff;}#sk-container-id-1 input.sk-hidden--visually {border: 0;clip: rect(1px 1px 1px 1px);clip: rect(1px, 1px, 1px, 1px);height: 1px;margin: -1px;overflow: hidden;padding: 0;position: absolute;width: 1px;}#sk-container-id-1 div.sk-estimator {font-family: monospace;background-color: #f0f8ff;border: 1px dotted black;border-radius: 0.25em;box-sizing: border-box;margin-bottom: 0.5em;}#sk-container-id-1 div.sk-estimator:hover {background-color: #d4ebff;}#sk-container-id-1 div.sk-parallel-item::after {content: \"\";width: 100%;border-bottom: 1px solid gray;flex-grow: 1;}#sk-container-id-1 div.sk-label:hover label.sk-toggleable__label {background-color: #d4ebff;}#sk-container-id-1 div.sk-serial::before {content: \"\";position: absolute;border-left: 1px solid gray;box-sizing: border-box;top: 0;bottom: 0;left: 50%;z-index: 0;}#sk-container-id-1 div.sk-serial {display: flex;flex-direction: column;align-items: center;background-color: white;padding-right: 0.2em;padding-left: 0.2em;position: relative;}#sk-container-id-1 div.sk-item {position: relative;z-index: 1;}#sk-container-id-1 div.sk-parallel {display: flex;align-items: stretch;justify-content: center;background-color: white;position: relative;}#sk-container-id-1 div.sk-item::before, #sk-container-id-1 div.sk-parallel-item::before {content: \"\";position: absolute;border-left: 1px solid gray;box-sizing: border-box;top: 0;bottom: 0;left: 50%;z-index: -1;}#sk-container-id-1 div.sk-parallel-item {display: flex;flex-direction: column;z-index: 1;position: relative;background-color: white;}#sk-container-id-1 div.sk-parallel-item:first-child::after {align-self: flex-end;width: 50%;}#sk-container-id-1 div.sk-parallel-item:last-child::after {align-self: flex-start;width: 50%;}#sk-container-id-1 div.sk-parallel-item:only-child::after {width: 0;}#sk-container-id-1 div.sk-dashed-wrapped {border: 1px dashed gray;margin: 0 0.4em 0.5em 0.4em;box-sizing: border-box;padding-bottom: 0.4em;background-color: white;}#sk-container-id-1 div.sk-label label {font-family: monospace;font-weight: bold;display: inline-block;line-height: 1.2em;}#sk-container-id-1 div.sk-label-container {text-align: center;}#sk-container-id-1 div.sk-container {/* jupyter's `normalize.less` sets `[hidden] { display: none; }` but bootstrap.min.css set `[hidden] { display: none !important; }` so we also need the `!important` here to be able to override the default hidden behavior on the sphinx rendered scikit-learn.org. See: https://github.com/scikit-learn/scikit-learn/issues/21755 */display: inline-block !important;position: relative;}#sk-container-id-1 div.sk-text-repr-fallback {display: none;}</style><div id=\"sk-container-id-1\" class=\"sk-top-container\"><div class=\"sk-text-repr-fallback\"><pre>LinearSVC()</pre><b>In a Jupyter environment, please rerun this cell to show the HTML representation or trust the notebook. <br />On GitHub, the HTML representation is unable to render, please try loading this page with nbviewer.org.</b></div><div class=\"sk-container\" hidden><div class=\"sk-item\"><div class=\"sk-estimator sk-toggleable\"><input class=\"sk-toggleable__control sk-hidden--visually\" id=\"sk-estimator-id-1\" type=\"checkbox\" checked><label for=\"sk-estimator-id-1\" class=\"sk-toggleable__label sk-toggleable__label-arrow\">LinearSVC</label><div class=\"sk-toggleable__content\"><pre>LinearSVC()</pre></div></div></div></div></div>"
      ],
      "text/plain": [
       "LinearSVC()"
      ]
     },
     "execution_count": 38,
     "metadata": {},
     "output_type": "execute_result"
    }
   ],
   "source": [
    "clasificador = LinearSVC()\n",
    "clasificador.fit(X_train_vectorizado, Y_train)"
   ]
  },
  {
   "cell_type": "code",
   "execution_count": 39,
   "id": "93b6ac48",
   "metadata": {},
   "outputs": [
    {
     "data": {
      "text/plain": [
       "0.9945063103192279"
      ]
     },
     "execution_count": 39,
     "metadata": {},
     "output_type": "execute_result"
    }
   ],
   "source": [
    "clasificador.score(X_test_vectorizado, Y_test)"
   ]
  }
 ],
 "metadata": {
  "kernelspec": {
   "display_name": "Python 3 (ipykernel)",
   "language": "python",
   "name": "python3"
  },
  "language_info": {
   "codemirror_mode": {
    "name": "ipython",
    "version": 3
   },
   "file_extension": ".py",
   "mimetype": "text/x-python",
   "name": "python",
   "nbconvert_exporter": "python",
   "pygments_lexer": "ipython3",
   "version": "3.9.16"
  }
 },
 "nbformat": 4,
 "nbformat_minor": 5
}
